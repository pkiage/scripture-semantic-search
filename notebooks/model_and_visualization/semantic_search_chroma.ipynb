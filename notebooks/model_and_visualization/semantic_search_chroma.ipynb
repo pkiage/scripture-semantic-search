{
 "cells": [
  {
   "cell_type": "code",
   "execution_count": null,
   "metadata": {},
   "outputs": [],
   "source": [
    "from pathlib import Path\n",
    "import pandas as pd\n"
   ]
  },
  {
   "cell_type": "code",
   "execution_count": null,
   "metadata": {},
   "outputs": [],
   "source": [
    "import chromadb\n",
    "from chromadb.config import Settings\n"
   ]
  },
  {
   "cell_type": "code",
   "execution_count": null,
   "metadata": {},
   "outputs": [],
   "source": [
    "# Get the current working directory\n",
    "cwd = Path.cwd()\n",
    "\n",
    "# Get the parent of the working directory\n",
    "parent_dir = cwd.parent\n",
    "\n",
    "# Get the parent of the parent directory\n",
    "grandparent_dir = parent_dir.parent\n",
    "\n",
    "# Get path to /data/interim\n",
    "data_interim_dir = grandparent_dir / Path('data') / Path('interim')\n",
    "\n",
    "filepath = str(data_interim_dir / Path('ChromaDB'))"
   ]
  },
  {
   "cell_type": "code",
   "execution_count": null,
   "metadata": {},
   "outputs": [],
   "source": [
    "from pathlib import Path\n",
    "import pandas as pd\n",
    "import json\n",
    "import numpy as np\n"
   ]
  },
  {
   "cell_type": "code",
   "execution_count": null,
   "metadata": {},
   "outputs": [],
   "source": [
    "filepath = data_interim_dir / Path('en_bbe.json')\n",
    "\n",
    "with open(filepath) as f:\n",
    "    data = json.load(f)"
   ]
  },
  {
   "cell_type": "code",
   "execution_count": null,
   "metadata": {},
   "outputs": [],
   "source": [
    "book_names = [data[i]['name'].lower().replace(\" \", \"\") for i in range(len(data))]"
   ]
  },
  {
   "cell_type": "code",
   "execution_count": null,
   "metadata": {},
   "outputs": [],
   "source": [
    "filepath = str(data_interim_dir / Path('ChromaDB'))\n",
    "\n",
    "chroma_client = chromadb.Client(Settings(chroma_db_impl=\"duckdb+parquet\",\n",
    "                                    persist_directory=filepath\n",
    "                                ))"
   ]
  },
  {
   "cell_type": "code",
   "execution_count": null,
   "metadata": {},
   "outputs": [],
   "source": [
    "chroma_client.list_collections()"
   ]
  },
  {
   "cell_type": "code",
   "execution_count": null,
   "metadata": {},
   "outputs": [],
   "source": [
    "collection = chroma_client.get_or_create_collection(name=\"bible\")\n"
   ]
  },
  {
   "cell_type": "code",
   "execution_count": null,
   "metadata": {},
   "outputs": [],
   "source": [
    "# collection.peek()\n",
    "collection.count()"
   ]
  },
  {
   "attachments": {},
   "cell_type": "markdown",
   "metadata": {},
   "source": [
    "### Entire Bible Query"
   ]
  },
  {
   "cell_type": "code",
   "execution_count": null,
   "metadata": {},
   "outputs": [],
   "source": [
    "query = [\"Create\"]\n",
    "top_n = 5\n",
    "\n",
    "result = collection.query(\n",
    "    query_texts=query, \n",
    "    n_results=top_n*2,\n",
    "    include=[\"metadatas\",\"documents\"])"
   ]
  },
  {
   "cell_type": "code",
   "execution_count": null,
   "metadata": {},
   "outputs": [],
   "source": [
    "result_df = pd.DataFrame.from_dict(result)\n",
    "result_df = result_df.drop(['embeddings','distances'],axis=1)\n",
    "columns = list(result_df.columns)\n",
    "result_df = result_df.explode(columns)\n",
    "result_df"
   ]
  },
  {
   "cell_type": "code",
   "execution_count": null,
   "metadata": {},
   "outputs": [],
   "source": [
    "print(len(result_df.ids[0]))\n",
    "print(len(result_df.documents[0]))\n",
    "print(len(result_df.metadatas[0]))"
   ]
  },
  {
   "cell_type": "code",
   "execution_count": null,
   "metadata": {},
   "outputs": [],
   "source": [
    "for i in range(len(result_df)):\n",
    "    reference = result_df.iat[i,0]\n",
    "    verse = result_df.iat[i,1]\n",
    "    print(f\"{reference} - {verse}\")"
   ]
  },
  {
   "attachments": {},
   "cell_type": "markdown",
   "metadata": {},
   "source": [
    "### Book Filter"
   ]
  },
  {
   "cell_type": "code",
   "execution_count": null,
   "metadata": {},
   "outputs": [],
   "source": [
    "query = [\"Create\"]\n",
    "top_n = 5\n",
    "book_filter = \"genesis\"\n",
    "\n",
    "result = collection.query(\n",
    "    query_texts=query, \n",
    "    n_results=top_n,\n",
    "    include=[\"metadatas\",\"documents\"],\n",
    "    where = {\"book\": book_filter})"
   ]
  },
  {
   "cell_type": "code",
   "execution_count": null,
   "metadata": {},
   "outputs": [],
   "source": [
    "result_df = pd.DataFrame.from_dict(result)\n",
    "result_df = result_df.drop(['embeddings','distances'],axis=1)\n",
    "columns = list(result_df.columns)\n",
    "result_df = result_df.explode(columns)\n",
    "result_df"
   ]
  },
  {
   "cell_type": "code",
   "execution_count": null,
   "metadata": {},
   "outputs": [],
   "source": [
    "print(len(result_df.ids[0]))\n",
    "print(len(result_df.documents[0]))\n",
    "print(len(result_df.metadatas[0]))"
   ]
  },
  {
   "cell_type": "code",
   "execution_count": null,
   "metadata": {},
   "outputs": [],
   "source": [
    "for i in range(len(result_df)):\n",
    "    reference = result_df.iat[i,0]\n",
    "    verse = result_df.iat[i,1]\n",
    "    print(f\"{reference} - {verse}\")"
   ]
  },
  {
   "attachments": {},
   "cell_type": "markdown",
   "metadata": {},
   "source": [
    "### Book & Chapter Filter"
   ]
  },
  {
   "cell_type": "code",
   "execution_count": null,
   "metadata": {},
   "outputs": [],
   "source": [
    "query = [\"Create\"]\n",
    "top_n = 5\n",
    "book_filter = \"proverbs\"\n",
    "chapter_filter = \"1\"\n",
    "\n",
    "result = collection.query(\n",
    "    query_texts=query, \n",
    "    n_results=top_n,\n",
    "    include=[\"metadatas\",\"documents\"],\n",
    "    where = {\"book\": book_filter, \"chapter\": chapter_filter} \n",
    "    )"
   ]
  },
  {
   "cell_type": "code",
   "execution_count": null,
   "metadata": {},
   "outputs": [],
   "source": [
    "result_df = pd.DataFrame.from_dict(result)\n",
    "result_df = result_df.drop(['embeddings','distances'],axis=1)\n",
    "columns = list(result_df.columns)\n",
    "result_df = result_df.explode(columns)\n",
    "result_df"
   ]
  },
  {
   "cell_type": "code",
   "execution_count": null,
   "metadata": {},
   "outputs": [],
   "source": [
    "print(len(result_df.ids[0]))\n",
    "print(len(result_df.documents[0]))\n",
    "print(len(result_df.metadatas[0]))"
   ]
  },
  {
   "cell_type": "code",
   "execution_count": null,
   "metadata": {},
   "outputs": [],
   "source": [
    "for i in range(len(result_df)):\n",
    "    reference = result_df.iat[i,0]\n",
    "    verse = result_df.iat[i,1]\n",
    "    print(f\"{reference} - {verse}\")"
   ]
  },
  {
   "attachments": {},
   "cell_type": "markdown",
   "metadata": {},
   "source": [
    "### Books & Chapters Filter"
   ]
  },
  {
   "cell_type": "code",
   "execution_count": null,
   "metadata": {},
   "outputs": [],
   "source": [
    "query = [\"Create\"]\n",
    "top_n = 5\n",
    "book_filter = \"proverbs\"\n",
    "chapter_filter = \"1\"\n",
    "\n",
    "result = collection.query(\n",
    "    query_texts=query, \n",
    "    n_results=top_n,\n",
    "    include=[\"metadatas\",\"documents\"],\n",
    "    where = {\"book\": book_filter, \"chapter\": chapter_filter} \n",
    "    )"
   ]
  }
 ],
 "metadata": {
  "kernelspec": {
   "display_name": "venv",
   "language": "python",
   "name": "python3"
  },
  "language_info": {
   "codemirror_mode": {
    "name": "ipython",
    "version": 3
   },
   "file_extension": ".py",
   "mimetype": "text/x-python",
   "name": "python",
   "nbconvert_exporter": "python",
   "pygments_lexer": "ipython3",
   "version": "3.10.2"
  },
  "orig_nbformat": 4
 },
 "nbformat": 4,
 "nbformat_minor": 2
}
