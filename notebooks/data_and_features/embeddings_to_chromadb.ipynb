{
 "cells": [
  {
   "attachments": {},
   "cell_type": "markdown",
   "metadata": {},
   "source": [
    "## Libraries"
   ]
  },
  {
   "cell_type": "code",
   "execution_count": null,
   "metadata": {},
   "outputs": [],
   "source": [
    "from pathlib import Path\n",
    "import pandas as pd\n",
    "import json\n",
    "import numpy as np\n"
   ]
  },
  {
   "cell_type": "code",
   "execution_count": null,
   "metadata": {},
   "outputs": [],
   "source": [
    "import chromadb\n",
    "from chromadb.config import Settings\n"
   ]
  },
  {
   "cell_type": "code",
   "execution_count": null,
   "metadata": {},
   "outputs": [],
   "source": [
    "from langchain.vectorstores import Chroma\n"
   ]
  },
  {
   "cell_type": "code",
   "execution_count": null,
   "metadata": {},
   "outputs": [],
   "source": [
    "from chromadb import Client\n"
   ]
  },
  {
   "attachments": {},
   "cell_type": "markdown",
   "metadata": {},
   "source": [
    "## Filepath"
   ]
  },
  {
   "cell_type": "code",
   "execution_count": null,
   "metadata": {},
   "outputs": [],
   "source": [
    "# Get the current working directory\n",
    "cwd = Path.cwd()\n",
    "\n",
    "# Get the parent of the working directory\n",
    "parent_dir = cwd.parent\n",
    "\n",
    "# Get the parent of the parent directory\n",
    "grandparent_dir = parent_dir.parent\n",
    "\n",
    "# Get path to /data/interim\n",
    "data_interim_dir = grandparent_dir / Path('data') / Path('interim')"
   ]
  },
  {
   "attachments": {},
   "cell_type": "markdown",
   "metadata": {},
   "source": [
    "## Functions"
   ]
  },
  {
   "cell_type": "code",
   "execution_count": null,
   "metadata": {},
   "outputs": [],
   "source": [
    "def get_verses_per_book(data: dict, book_number: int) -> dict:\n",
    "    # Get the name of the book from the dictionary\n",
    "    book_text = data[book_number]['name']\n",
    "    reference_list = [] # keys of output dictionary\n",
    "    verses_list = [] # values of output dictionary\n",
    "    # Iterate over all chapters in the dictionary\n",
    "    for chapter_number, chapter in enumerate(data[book_number]['chapters']):\n",
    "        # Get the chapter number as a string\n",
    "        chapter_number_txt = str(chapter_number+1)\n",
    "        # Iterate over all verses in the chapter using enumerate() function\n",
    "        for verse_number, verse in enumerate(chapter):\n",
    "            # Get the verse number as a string\n",
    "            verse_number_text = str(verse_number+1)\n",
    "            # Append book name, chapter number and verse number into a string\n",
    "            reference_list.append(f\"{book_text} {chapter_number_txt}:{verse_number_text}\")\n",
    "            # Append verse to list\n",
    "            verses_list.append(verse)   \n",
    "    return  dict(zip(reference_list, verses_list))"
   ]
  },
  {
   "cell_type": "code",
   "execution_count": null,
   "metadata": {},
   "outputs": [],
   "source": [
    "def get_verses_of_all_books(data: dict) -> list:\n",
    "    bible_books = []\n",
    "    for book_number, books in enumerate(data):\n",
    "        book_verses = get_verses_per_book(data,book_number)\n",
    "        bible_books.append(book_verses)\n",
    "    return bible_books"
   ]
  },
  {
   "attachments": {},
   "cell_type": "markdown",
   "metadata": {},
   "source": [
    "## Execute"
   ]
  },
  {
   "cell_type": "code",
   "execution_count": null,
   "metadata": {},
   "outputs": [],
   "source": [
    "filepath = data_interim_dir / Path('en_bbe.json')\n",
    "\n",
    "with open(filepath) as f:\n",
    "    data = json.load(f)"
   ]
  },
  {
   "cell_type": "code",
   "execution_count": null,
   "metadata": {},
   "outputs": [],
   "source": [
    "bible_books= get_verses_of_all_books(data)"
   ]
  },
  {
   "cell_type": "code",
   "execution_count": null,
   "metadata": {},
   "outputs": [],
   "source": [
    "df_bible = pd.DataFrame.from_dict(bible_books).T"
   ]
  },
  {
   "cell_type": "code",
   "execution_count": null,
   "metadata": {},
   "outputs": [],
   "source": [
    "df_bible['verse'] = df_bible.apply(lambda x: ','.join(x.dropna().astype(str)), axis=1)"
   ]
  },
  {
   "cell_type": "code",
   "execution_count": null,
   "metadata": {},
   "outputs": [],
   "source": [
    "df_bible_flat = df_bible.drop([col for col in df_bible.columns if col != 'verse'], axis=1)"
   ]
  },
  {
   "attachments": {},
   "cell_type": "markdown",
   "metadata": {},
   "source": [
    "### Test"
   ]
  },
  {
   "cell_type": "code",
   "execution_count": null,
   "metadata": {},
   "outputs": [],
   "source": [
    "df_bible.iat[0,0]"
   ]
  },
  {
   "cell_type": "code",
   "execution_count": null,
   "metadata": {},
   "outputs": [],
   "source": [
    "df_bible_flat.iat[0,0]"
   ]
  },
  {
   "attachments": {},
   "cell_type": "markdown",
   "metadata": {},
   "source": [
    "### ChromaDB Setup"
   ]
  },
  {
   "cell_type": "code",
   "execution_count": null,
   "metadata": {},
   "outputs": [],
   "source": [
    "filepath = str(data_interim_dir / Path('ChromaDB'))\n",
    "\n",
    "chroma_client = chromadb.Client(Settings(chroma_db_impl=\"duckdb+parquet\",\n",
    "                                    persist_directory=filepath\n",
    "                                ))"
   ]
  },
  {
   "cell_type": "code",
   "execution_count": null,
   "metadata": {},
   "outputs": [],
   "source": [
    "chroma_client.list_collections()"
   ]
  },
  {
   "attachments": {},
   "cell_type": "markdown",
   "metadata": {},
   "source": [
    "### Create Embeddings"
   ]
  },
  {
   "attachments": {},
   "cell_type": "markdown",
   "metadata": {},
   "source": [
    "#### Single Book"
   ]
  },
  {
   "cell_type": "code",
   "execution_count": null,
   "metadata": {},
   "outputs": [],
   "source": [
    "book_number = 0\n",
    "book_name = data[book_number]['name'].lower().replace(\" \", \"\")\n",
    "\n",
    "# Specifying collection = chroma_client.get_or_create_collection(name=book_name,\n",
    "# embedding_function='SentenceTransformerEmbeddingFunction') \n",
    "# creates query error\n",
    "\n",
    "collection = chroma_client.get_or_create_collection(name=book_name)\n",
    "\n",
    "df_book = df_bible.drop([col for col in df_bible.columns if col != book_number], axis=1).dropna().rename(columns = {book_number:'verse'})\n",
    "\n",
    "\"\"\"\n",
    "collection.add(\n",
    "        documents = list(df_book['verse']),\n",
    "        ids = list(df_book.index)\n",
    "        )\n",
    "\"\"\"\n",
    "\n",
    "chroma_client.persist()"
   ]
  },
  {
   "cell_type": "code",
   "execution_count": null,
   "metadata": {},
   "outputs": [],
   "source": [
    "collection.peek()\n",
    "collection.count()"
   ]
  },
  {
   "cell_type": "code",
   "execution_count": null,
   "metadata": {},
   "outputs": [],
   "source": [
    "query = [\"Creation\"]\n",
    "\n",
    "\n",
    "result = collection.query(\n",
    "    query_texts=query,\n",
    "    n_results=10\n",
    ")"
   ]
  },
  {
   "cell_type": "code",
   "execution_count": null,
   "metadata": {},
   "outputs": [],
   "source": [
    "result_df = pd.DataFrame.from_dict(result)\n",
    "result_df = result_df.drop(['embeddings','metadatas'],axis=1)\n",
    "result_df = result_df.explode(list(result_df.columns))\n",
    "result_df.sort_values(\"distances\", ascending=True)"
   ]
  },
  {
   "cell_type": "code",
   "execution_count": null,
   "metadata": {},
   "outputs": [],
   "source": [
    "for i in range(len(result_df)):\n",
    "    reference = result_df.iat[i,0]\n",
    "    verse = result_df.iat[i,1]\n",
    "    print(f\"{reference} - {verse}\")"
   ]
  },
  {
   "attachments": {},
   "cell_type": "markdown",
   "metadata": {},
   "source": [
    "#### Bible"
   ]
  },
  {
   "cell_type": "code",
   "execution_count": null,
   "metadata": {},
   "outputs": [],
   "source": [
    "collection = chroma_client.get_or_create_collection(name=\"bible\")\n",
    "\n",
    "\"\"\"\n",
    "collection.add(\n",
    "        documents = list(df_bible_flat['verse']),\n",
    "        ids = list(df_bible_flat.index)\n",
    "        )\n",
    "\n",
    "# Only have to persist once\n",
    "chroma_client.persist()\n",
    "\"\"\"\n"
   ]
  },
  {
   "cell_type": "code",
   "execution_count": null,
   "metadata": {},
   "outputs": [],
   "source": [
    "# collection.peek()\n",
    "collection.count()"
   ]
  },
  {
   "cell_type": "code",
   "execution_count": null,
   "metadata": {},
   "outputs": [],
   "source": [
    "query = [\"Live\"]\n",
    "\n",
    "result = collection.query(\n",
    "    query_texts=query,\n",
    "    n_results=7)"
   ]
  },
  {
   "cell_type": "code",
   "execution_count": null,
   "metadata": {},
   "outputs": [],
   "source": [
    "result_df = pd.DataFrame.from_dict(result)\n",
    "result_df = result_df.drop(['embeddings','metadatas'],axis=1)\n",
    "result_df = result_df.explode(list(result_df.columns))\n",
    "result_df.sort_values(\"distances\", ascending=True)"
   ]
  },
  {
   "cell_type": "code",
   "execution_count": null,
   "metadata": {},
   "outputs": [],
   "source": [
    "for i in range(len(result_df)):\n",
    "    reference = result_df.iat[i,0]\n",
    "    verse = result_df.iat[i,1]\n",
    "    print(f\"{reference} - {verse}\")"
   ]
  }
 ],
 "metadata": {
  "kernelspec": {
   "display_name": "venv",
   "language": "python",
   "name": "python3"
  },
  "language_info": {
   "codemirror_mode": {
    "name": "ipython",
    "version": 3
   },
   "file_extension": ".py",
   "mimetype": "text/x-python",
   "name": "python",
   "nbconvert_exporter": "python",
   "pygments_lexer": "ipython3",
   "version": "3.10.2"
  },
  "orig_nbformat": 4
 },
 "nbformat": 4,
 "nbformat_minor": 2
}
