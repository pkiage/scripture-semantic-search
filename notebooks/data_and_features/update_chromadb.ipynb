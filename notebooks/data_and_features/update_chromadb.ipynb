{
 "cells": [
  {
   "attachments": {},
   "cell_type": "markdown",
   "metadata": {},
   "source": [
    "## Libraries"
   ]
  },
  {
   "cell_type": "code",
   "execution_count": 1,
   "metadata": {},
   "outputs": [],
   "source": [
    "from pathlib import Path\n",
    "import pandas as pd\n",
    "import json\n",
    "import numpy as np\n"
   ]
  },
  {
   "cell_type": "code",
   "execution_count": 2,
   "metadata": {},
   "outputs": [],
   "source": [
    "import chromadb\n",
    "from chromadb.config import Settings\n"
   ]
  },
  {
   "cell_type": "code",
   "execution_count": 3,
   "metadata": {},
   "outputs": [],
   "source": [
    "from chromadb import Client\n"
   ]
  },
  {
   "attachments": {},
   "cell_type": "markdown",
   "metadata": {},
   "source": [
    "## Filepath"
   ]
  },
  {
   "cell_type": "code",
   "execution_count": 4,
   "metadata": {},
   "outputs": [],
   "source": [
    "# Get the current working directory\n",
    "cwd = Path.cwd()\n",
    "\n",
    "# Get the parent of the working directory\n",
    "parent_dir = cwd.parent\n",
    "\n",
    "# Get the parent of the parent directory\n",
    "grandparent_dir = parent_dir.parent\n",
    "\n",
    "# Get path to /data/interim\n",
    "data_interim_dir = grandparent_dir / Path('data') / Path('interim')"
   ]
  },
  {
   "attachments": {},
   "cell_type": "markdown",
   "metadata": {},
   "source": [
    "## Functions"
   ]
  },
  {
   "cell_type": "code",
   "execution_count": 5,
   "metadata": {},
   "outputs": [],
   "source": [
    "def get_verses_per_book(data: dict, book_number: int) -> dict:\n",
    "    # Get the name of the book from the dictionary\n",
    "    book_text = data[book_number]['name']\n",
    "    reference_list = [] # keys of output dictionary\n",
    "    verses_list = [] # values of output dictionary\n",
    "    # Iterate over all chapters in the dictionary\n",
    "    for chapter_number, chapter in enumerate(data[book_number]['chapters']):\n",
    "        # Get the chapter number as a string\n",
    "        chapter_number_txt = str(chapter_number+1)\n",
    "        # Iterate over all verses in the chapter using enumerate() function\n",
    "        for verse_number, verse in enumerate(chapter):\n",
    "            # Get the verse number as a string\n",
    "            verse_number_text = str(verse_number+1)\n",
    "            # Append book name, chapter number and verse number into a string\n",
    "            reference_list.append(f\"{book_text} {chapter_number_txt}:{verse_number_text}\")\n",
    "            # Append verse to list\n",
    "            verses_list.append(verse)   \n",
    "    return  dict(zip(reference_list, verses_list))"
   ]
  },
  {
   "cell_type": "code",
   "execution_count": 6,
   "metadata": {},
   "outputs": [],
   "source": [
    "def get_verses_of_all_books(data: dict) -> list:\n",
    "    bible_books = []\n",
    "    for book_number, books in enumerate(data):\n",
    "        book_verses = get_verses_per_book(data,book_number)\n",
    "        bible_books.append(book_verses)\n",
    "    return bible_books"
   ]
  },
  {
   "attachments": {},
   "cell_type": "markdown",
   "metadata": {},
   "source": [
    "## Execute"
   ]
  },
  {
   "cell_type": "code",
   "execution_count": 7,
   "metadata": {},
   "outputs": [],
   "source": [
    "filepath = data_interim_dir / Path('en_bbe.json')\n",
    "\n",
    "with open(filepath) as f:\n",
    "    data = json.load(f)"
   ]
  },
  {
   "cell_type": "code",
   "execution_count": 8,
   "metadata": {},
   "outputs": [],
   "source": [
    "bible_books= get_verses_of_all_books(data)"
   ]
  },
  {
   "cell_type": "code",
   "execution_count": 9,
   "metadata": {},
   "outputs": [],
   "source": [
    "df_bible = pd.DataFrame.from_dict(bible_books).T"
   ]
  },
  {
   "cell_type": "code",
   "execution_count": 10,
   "metadata": {},
   "outputs": [],
   "source": [
    "df_bible['verse'] = df_bible.apply(lambda x: ','.join(x.dropna().astype(str)), axis=1)"
   ]
  },
  {
   "cell_type": "code",
   "execution_count": 11,
   "metadata": {},
   "outputs": [],
   "source": [
    "df_bible_flat = df_bible.drop([col for col in df_bible.columns if col != 'verse'], axis=1)"
   ]
  },
  {
   "attachments": {},
   "cell_type": "markdown",
   "metadata": {},
   "source": [
    "### Test"
   ]
  },
  {
   "cell_type": "code",
   "execution_count": 12,
   "metadata": {},
   "outputs": [
    {
     "name": "stdout",
     "output_type": "stream",
     "text": [
      "Book type\n",
      "<class 'dict'>\n",
      "Book chapter type\n",
      "<class 'list'>\n",
      "Book chapters in book\n",
      "50\n"
     ]
    }
   ],
   "source": [
    "book_number = 0\n",
    "data[book_number]\n",
    "print(\"Book type\")\n",
    "print(type(data[book_number]))\n",
    "book_chapters = data[book_number]['chapters']\n",
    "print(\"Book chapter type\")\n",
    "print(type(book_chapters))\n",
    "print(\"Book chapters in book\")\n",
    "print(len(book_chapters))"
   ]
  },
  {
   "cell_type": "code",
   "execution_count": 13,
   "metadata": {},
   "outputs": [
    {
     "data": {
      "text/plain": [
       "25"
      ]
     },
     "execution_count": 13,
     "metadata": {},
     "output_type": "execute_result"
    }
   ],
   "source": [
    "len(book_chapters[1])"
   ]
  },
  {
   "cell_type": "code",
   "execution_count": 14,
   "metadata": {},
   "outputs": [
    {
     "data": {
      "text/plain": [
       "'At the first God made the heaven and the earth.'"
      ]
     },
     "execution_count": 14,
     "metadata": {},
     "output_type": "execute_result"
    }
   ],
   "source": [
    "df_bible.iat[0,0]"
   ]
  },
  {
   "cell_type": "code",
   "execution_count": 15,
   "metadata": {},
   "outputs": [
    {
     "data": {
      "text/plain": [
       "'At the first God made the heaven and the earth.'"
      ]
     },
     "execution_count": 15,
     "metadata": {},
     "output_type": "execute_result"
    }
   ],
   "source": [
    "df_bible_flat.iat[0,0]"
   ]
  },
  {
   "attachments": {},
   "cell_type": "markdown",
   "metadata": {},
   "source": [
    "### ChromaDB Setup"
   ]
  },
  {
   "cell_type": "code",
   "execution_count": 16,
   "metadata": {},
   "outputs": [
    {
     "name": "stderr",
     "output_type": "stream",
     "text": [
      "Using embedded DuckDB with persistence: data will be stored in: c:\\Users\\Admin\\Documents\\Github\\scripture-semantic-search\\data\\interim\\ChromaDB\n"
     ]
    }
   ],
   "source": [
    "filepath = str(data_interim_dir / Path('ChromaDB'))\n",
    "\n",
    "chroma_client = chromadb.Client(Settings(chroma_db_impl=\"duckdb+parquet\",\n",
    "                                    persist_directory=filepath\n",
    "                                ))"
   ]
  },
  {
   "cell_type": "code",
   "execution_count": 17,
   "metadata": {},
   "outputs": [
    {
     "name": "stderr",
     "output_type": "stream",
     "text": [
      "No embedding_function provided, using default embedding function: SentenceTransformerEmbeddingFunction\n",
      "c:\\Users\\Admin\\Documents\\Github\\scripture-semantic-search\\venv\\lib\\site-packages\\tqdm\\auto.py:21: TqdmWarning: IProgress not found. Please update jupyter and ipywidgets. See https://ipywidgets.readthedocs.io/en/stable/user_install.html\n",
      "  from .autonotebook import tqdm as notebook_tqdm\n",
      "No embedding_function provided, using default embedding function: SentenceTransformerEmbeddingFunction\n",
      "No embedding_function provided, using default embedding function: SentenceTransformerEmbeddingFunction\n"
     ]
    },
    {
     "data": {
      "text/plain": [
       "[Collection(name=bible), Collection(name=3john), Collection(name=genesis)]"
      ]
     },
     "execution_count": 17,
     "metadata": {},
     "output_type": "execute_result"
    }
   ],
   "source": [
    "chroma_client.list_collections()"
   ]
  },
  {
   "attachments": {},
   "cell_type": "markdown",
   "metadata": {},
   "source": [
    "### Create Embeddings"
   ]
  },
  {
   "attachments": {},
   "cell_type": "markdown",
   "metadata": {},
   "source": [
    "#### Bible"
   ]
  },
  {
   "cell_type": "code",
   "execution_count": null,
   "metadata": {},
   "outputs": [],
   "source": [
    "collection = chroma_client.get_or_create_collection(name=\"bible\")\n",
    "\n",
    "\"\"\"\n",
    "collection.add(\n",
    "        documents = list(df_bible_flat['verse']),\n",
    "        ids = list(df_bible_flat.index)\n",
    "        )\n",
    "\n",
    "# Only have to persist once\n",
    "chroma_client.persist()\n",
    "\"\"\"\n"
   ]
  },
  {
   "cell_type": "code",
   "execution_count": null,
   "metadata": {},
   "outputs": [],
   "source": [
    "# collection.peek()\n",
    "collection.count()"
   ]
  },
  {
   "cell_type": "code",
   "execution_count": null,
   "metadata": {},
   "outputs": [],
   "source": [
    "query = [\"Create\"]\n",
    "\n",
    "result = collection.query(\n",
    "    query_texts=query,\n",
    "    n_results=7)"
   ]
  },
  {
   "cell_type": "code",
   "execution_count": null,
   "metadata": {},
   "outputs": [],
   "source": [
    "result_df = pd.DataFrame.from_dict(result)\n",
    "result_df = result_df.drop(['embeddings','metadatas'],axis=1)\n",
    "result_df = result_df.explode(list(result_df.columns))\n",
    "result_df.sort_values(\"distances\", ascending=True)"
   ]
  },
  {
   "cell_type": "code",
   "execution_count": null,
   "metadata": {},
   "outputs": [],
   "source": [
    "for i in range(len(result_df)):\n",
    "    reference = result_df.iat[i,0]\n",
    "    verse = result_df.iat[i,1]\n",
    "    print(f\"{reference} - {verse}\")"
   ]
  },
  {
   "attachments": {},
   "cell_type": "markdown",
   "metadata": {},
   "source": [
    "### Update Embeddings\n",
    "\n",
    "If an id is not found in the collection, an exception will be raised. If documents are supplied without corresponding embeddings, the embeddings will be recomupted with the collection's embedding function."
   ]
  },
  {
   "attachments": {},
   "cell_type": "markdown",
   "metadata": {},
   "source": [
    "#### Single Book - Single Chapter"
   ]
  },
  {
   "cell_type": "code",
   "execution_count": null,
   "metadata": {},
   "outputs": [],
   "source": [
    "book_number = 63\n",
    "book_name = data[book_number]['name'].lower().replace(\" \", \"\")\n",
    "book_chapters = data[book_number]['chapters']\n",
    "\n",
    "df_book = df_bible.drop([col for col in df_bible.columns if col != book_number], axis=1).dropna().rename(columns = {book_number:'verse'})"
   ]
  },
  {
   "cell_type": "code",
   "execution_count": null,
   "metadata": {},
   "outputs": [],
   "source": [
    "collection = chroma_client.get_or_create_collection(name=book_name)\n",
    "\n",
    "result = collection.get(\n",
    "    ids=list(df_book.index),\n",
    "    include=[\"embeddings\",\"documents\",\"metadatas\"]\n",
    ")\n",
    "\n",
    "result_df = pd.DataFrame.from_dict(result)"
   ]
  },
  {
   "cell_type": "code",
   "execution_count": null,
   "metadata": {},
   "outputs": [],
   "source": [
    "book_embeddings = list(result_df.embeddings)\n",
    "book_documents = list(df_book['verse'])\n",
    "\n",
    "meta_dict = {\"book\":book_name, \"chapter\":str(len(book_chapters))}\n",
    "book_chapter_verses = len(book_chapters[0])\n",
    "\n",
    "book_chapter_metadata = [meta_dict] * book_chapter_verses"
   ]
  },
  {
   "cell_type": "code",
   "execution_count": null,
   "metadata": {},
   "outputs": [],
   "source": [
    "print(len(book_embeddings))\n",
    "print(len(book_documents))\n",
    "print(len(book_chapter_metadata))"
   ]
  },
  {
   "cell_type": "code",
   "execution_count": null,
   "metadata": {},
   "outputs": [],
   "source": [
    "collection.update(\n",
    "    ids=list(df_book.index),\n",
    "    embeddings=book_embeddings,\n",
    "    documents =book_documents,\n",
    "    metadatas=book_chapter_metadata,\n",
    ")\n",
    "\n",
    "chroma_client.persist()"
   ]
  },
  {
   "cell_type": "code",
   "execution_count": null,
   "metadata": {},
   "outputs": [],
   "source": [
    "result = collection.get(\n",
    "    ids=list(df_book.index),\n",
    "    include=[\"embeddings\",\"documents\",\"metadatas\"]\n",
    ")\n",
    "\n",
    "pd.DataFrame.from_dict(result)"
   ]
  },
  {
   "attachments": {},
   "cell_type": "markdown",
   "metadata": {},
   "source": [
    "#### Single Book - Multiple Chapters"
   ]
  },
  {
   "cell_type": "code",
   "execution_count": null,
   "metadata": {},
   "outputs": [],
   "source": [
    "book_number = 0\n",
    "book_name = data[book_number]['name'].lower().replace(\" \", \"\")\n",
    "book_chapters = data[book_number]['chapters']\n",
    "\n",
    "df_book = df_bible.drop([col for col in df_bible.columns if col != book_number], axis=1).dropna().rename(columns = {book_number:'verse'})"
   ]
  },
  {
   "cell_type": "code",
   "execution_count": null,
   "metadata": {},
   "outputs": [],
   "source": [
    "collection = chroma_client.get_or_create_collection(name=book_name)\n",
    "\n",
    "result = collection.get(\n",
    "    ids=list(df_book.index),\n",
    "    include=[\"embeddings\",\"documents\",\"metadatas\"]\n",
    ")\n",
    "\n",
    "result_df = pd.DataFrame.from_dict(result)\n",
    "result_df.head()"
   ]
  },
  {
   "cell_type": "code",
   "execution_count": null,
   "metadata": {},
   "outputs": [],
   "source": [
    "book_embeddings = list(result_df.embeddings)\n",
    "book_documents = list(df_book['verse'])\n",
    "book_ids = list(df_book.index)"
   ]
  },
  {
   "cell_type": "code",
   "execution_count": null,
   "metadata": {},
   "outputs": [],
   "source": [
    "book_meta_dict_list = []\n",
    "for i in range(len(book_chapters)):\n",
    "    meta_dict = {\"book\":book_name, \"chapter\":str(i+1)}\n",
    "    book_chapter_verses = len(book_chapters[i])\n",
    "    book_meta_dict_list.append([meta_dict] * book_chapter_verses)\n",
    "\n",
    "book_meta_dict_list = [item for sublist in book_meta_dict_list for item in sublist]\n"
   ]
  },
  {
   "cell_type": "code",
   "execution_count": null,
   "metadata": {},
   "outputs": [],
   "source": [
    "print(len(book_embeddings))\n",
    "print(len(book_documents))\n",
    "print(len(book_meta_dict_list))"
   ]
  },
  {
   "cell_type": "code",
   "execution_count": null,
   "metadata": {},
   "outputs": [],
   "source": [
    "collection.update(\n",
    "    ids=book_ids,\n",
    "    embeddings=book_embeddings,\n",
    "    documents =book_documents,\n",
    "    metadatas=book_meta_dict_list,\n",
    ")\n",
    "\n",
    "chroma_client.persist()"
   ]
  },
  {
   "cell_type": "code",
   "execution_count": null,
   "metadata": {},
   "outputs": [],
   "source": [
    "result = collection.get(\n",
    "    ids=list(df_book.index),\n",
    "    include=[\"embeddings\",\"documents\",\"metadatas\"]\n",
    ")\n",
    "\n",
    "result_df = pd.DataFrame.from_dict(result)\n",
    "result_df.head()"
   ]
  },
  {
   "attachments": {},
   "cell_type": "markdown",
   "metadata": {},
   "source": [
    "#### Bible"
   ]
  },
  {
   "cell_type": "code",
   "execution_count": null,
   "metadata": {},
   "outputs": [],
   "source": [
    "collection = chroma_client.get_or_create_collection(name='bible')\n",
    "\n",
    "result = collection.get(\n",
    "    ids=list(df_bible_flat.index),\n",
    "    include=[\"embeddings\",\"documents\",\"metadatas\"]\n",
    ")\n",
    "\n",
    "result_df = pd.DataFrame.from_dict(result)"
   ]
  },
  {
   "cell_type": "code",
   "execution_count": null,
   "metadata": {},
   "outputs": [],
   "source": [
    "bible_embeddings = list(result_df.embeddings)\n",
    "bible_documents = list(df_bible_flat['verse'])\n",
    "bible_ids = list(df_bible_flat.index)"
   ]
  },
  {
   "cell_type": "code",
   "execution_count": null,
   "metadata": {},
   "outputs": [],
   "source": [
    "bible_meta_dict_list = []\n",
    "\n",
    "for x in range(len(data)):\n",
    "    book_chapters = data[x]['chapters']\n",
    "    book_name = data[x]['name'].lower().replace(\" \", \"\")\n",
    "    book_meta_dict_list = []\n",
    "    for i in range(len(book_chapters)):\n",
    "        meta_dict = {\"book\":book_name, \"chapter\":str(i+1)}\n",
    "        book_chapter_verses = len(book_chapters[i])\n",
    "        book_meta_dict_list.append([meta_dict] * book_chapter_verses)\n",
    "    book_meta_dict_list = [item for sublist in book_meta_dict_list for item in sublist]\n",
    "    bible_meta_dict_list.append(book_meta_dict_list)\n",
    "\n",
    "bible_meta_dict_list = [item for sublist in bible_meta_dict_list for item in sublist]"
   ]
  },
  {
   "cell_type": "code",
   "execution_count": null,
   "metadata": {},
   "outputs": [],
   "source": [
    "print(len(bible_embeddings))\n",
    "print(len(bible_documents))\n",
    "print(len(bible_meta_dict_list))"
   ]
  },
  {
   "cell_type": "code",
   "execution_count": null,
   "metadata": {},
   "outputs": [],
   "source": [
    "collection.update(\n",
    "    ids=bible_ids,\n",
    "    embeddings=bible_embeddings,\n",
    "    documents =bible_documents,\n",
    "    metadatas=bible_meta_dict_list,\n",
    ")\n",
    "\n",
    "chroma_client.persist()"
   ]
  },
  {
   "cell_type": "code",
   "execution_count": null,
   "metadata": {},
   "outputs": [],
   "source": [
    "result = collection.get(\n",
    "    ids=bible_ids,\n",
    "    include=[\"embeddings\",\"documents\",\"metadatas\"]\n",
    ")\n",
    "\n",
    "result_df = pd.DataFrame.from_dict(result)\n",
    "result_df"
   ]
  },
  {
   "attachments": {},
   "cell_type": "markdown",
   "metadata": {},
   "source": [
    "### Recalculate Embeddings"
   ]
  },
  {
   "attachments": {},
   "cell_type": "markdown",
   "metadata": {},
   "source": [
    "#### Bible - Specific Book"
   ]
  },
  {
   "cell_type": "code",
   "execution_count": 18,
   "metadata": {},
   "outputs": [
    {
     "name": "stdout",
     "output_type": "stream",
     "text": [
      "acts\n"
     ]
    }
   ],
   "source": [
    "book_number = 43\n",
    "book_name = data[book_number]['name'].lower().replace(\" \", \"\")\n",
    "print(book_name)"
   ]
  },
  {
   "cell_type": "code",
   "execution_count": 19,
   "metadata": {},
   "outputs": [],
   "source": [
    "book_chapters = data[book_number]['chapters']\n",
    "\n",
    "df_book = df_bible.drop([col for col in df_bible.columns if col != book_number], axis=1).dropna().rename(columns = {book_number:'verse'})"
   ]
  },
  {
   "cell_type": "code",
   "execution_count": 20,
   "metadata": {},
   "outputs": [],
   "source": [
    "bible_book_ids = list(df_book.index)\n",
    "bible_book_documents = list(df_book['verse'])"
   ]
  },
  {
   "cell_type": "code",
   "execution_count": 21,
   "metadata": {},
   "outputs": [],
   "source": [
    "bible_book_meta_dict_list = []\n",
    "for i in range(len(book_chapters)):\n",
    "    meta_dict = {\"book\":book_name, \"chapter\":str(i+1)}\n",
    "    book_chapter_verses = len(book_chapters[i])\n",
    "    bible_book_meta_dict_list.append([meta_dict] * book_chapter_verses)\n",
    "\n",
    "bible_book_meta_dict_list = [item for sublist in bible_book_meta_dict_list for item in sublist]"
   ]
  },
  {
   "cell_type": "code",
   "execution_count": 22,
   "metadata": {},
   "outputs": [
    {
     "name": "stderr",
     "output_type": "stream",
     "text": [
      "No embedding_function provided, using default embedding function: SentenceTransformerEmbeddingFunction\n"
     ]
    }
   ],
   "source": [
    "collection = chroma_client.get_or_create_collection(name='bible')"
   ]
  },
  {
   "cell_type": "code",
   "execution_count": 23,
   "metadata": {},
   "outputs": [],
   "source": [
    "collection.update(\n",
    "    ids=bible_book_ids,\n",
    "    documents =bible_book_documents,\n",
    "    metadatas=bible_book_meta_dict_list,\n",
    ")\n",
    "\n",
    "chroma_client.persist()"
   ]
  }
 ],
 "metadata": {
  "kernelspec": {
   "display_name": "venv",
   "language": "python",
   "name": "python3"
  },
  "language_info": {
   "codemirror_mode": {
    "name": "ipython",
    "version": 3
   },
   "file_extension": ".py",
   "mimetype": "text/x-python",
   "name": "python",
   "nbconvert_exporter": "python",
   "pygments_lexer": "ipython3",
   "version": "3.10.11"
  },
  "orig_nbformat": 4
 },
 "nbformat": 4,
 "nbformat_minor": 2
}
